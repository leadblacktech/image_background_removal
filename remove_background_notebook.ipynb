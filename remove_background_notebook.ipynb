{
 "cells": [
  {
   "cell_type": "code",
   "execution_count": null,
   "metadata": {},
   "outputs": [],
   "source": [
    "from rembg import remove\n",
    "import glob\n",
    "import os\n",
    "import time\n",
    "\n",
    "def process_files():\n",
    "    files = glob.glob('image/*.JPG')\n",
    "    for file in files:\n",
    "        input_path = file\n",
    "        output_path = input_path.replace(\"image/\", \"results/\")\n",
    "\n",
    "        with open(input_path, 'rb') as i:\n",
    "            with open(output_path, 'wb') as o:\n",
    "                original_image = i.read()\n",
    "                output = remove(original_image)\n",
    "                o.write(output)\n",
    "        os.remove(input_path)                   # Important (remove original file)\n",
    "\n",
    "folder_path = 'image'\n",
    "state_file = \"folder_state.txt\"\n",
    "check_interval = 30\n",
    "\n",
    "while True:\n",
    "    if os.listdir(folder_path):\n",
    "        with open(state_file, 'w') as file:\n",
    "            file.write('foundFiles=True')\n",
    "            print('Folder is not empty')\n",
    "        process_files()                         # call process file function\n",
    "    else:\n",
    "        with open(state_file, 'w') as file:\n",
    "            file.write('foundFiles=False')\n",
    "            print('Folder is empty')\n",
    "\n",
    "    time.sleep(check_interval)\n",
    "    \n",
    "############################################################################\n",
    "\n",
    "\n"
   ]
  }
 ],
 "metadata": {
  "kernelspec": {
   "display_name": "ansible",
   "language": "python",
   "name": "python3"
  },
  "language_info": {
   "codemirror_mode": {
    "name": "ipython",
    "version": 3
   },
   "file_extension": ".py",
   "mimetype": "text/x-python",
   "name": "python",
   "nbconvert_exporter": "python",
   "pygments_lexer": "ipython3",
   "version": "3.11.5"
  }
 },
 "nbformat": 4,
 "nbformat_minor": 2
}
